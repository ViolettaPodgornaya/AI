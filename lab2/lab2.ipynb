{
 "cells": [
  {
   "cell_type": "markdown",
   "metadata": {},
   "source": [
    "**Выполнила:** Подгорная Виолетта, *М80-304Б, №10 по списку*"
   ]
  },
  {
   "cell_type": "markdown",
   "metadata": {},
   "source": [
    "# Лабораторная работа №2"
   ]
  },
  {
   "cell_type": "markdown",
   "metadata": {},
   "source": [
    "## Алгоритмы классификации"
   ]
  },
  {
   "cell_type": "markdown",
   "metadata": {},
   "source": [
    "### Расчет варианта\n",
    "\n",
    "*Расчет дополнительного алгоритма*"
   ]
  },
  {
   "cell_type": "code",
   "execution_count": 1,
   "metadata": {},
   "outputs": [
    {
     "name": "stdout",
     "output_type": "stream",
     "text": [
      "Дополнительно Support Vector Machine\n"
     ]
    }
   ],
   "source": [
    "GROUP_NUM = 10\n",
    "\n",
    "if GROUP_NUM % 2:\n",
    "    print(\"Дополнительно Random Forest\")\n",
    "else:\n",
    "    print(\"Дополнительно Support Vector Machine\")"
   ]
  },
  {
   "cell_type": "markdown",
   "metadata": {},
   "source": [
    "### Импорт данных\n",
    "\n",
    "*Импортируем подготовленные данные из первой лабораторной работы*"
   ]
  },
  {
   "cell_type": "code",
   "execution_count": 2,
   "metadata": {},
   "outputs": [],
   "source": [
    "import numpy as np\n",
    "import pandas as pd \n",
    "import matplotlib.pyplot as plt "
   ]
  },
  {
   "cell_type": "code",
   "execution_count": 3,
   "metadata": {},
   "outputs": [],
   "source": [
    "X_PATH = \"data/x_class.csv\"\n",
    "Y_PATH = \"data/y_class.csv\""
   ]
  },
  {
   "cell_type": "code",
   "execution_count": 4,
   "metadata": {},
   "outputs": [],
   "source": [
    "X = pd.read_csv(X_PATH)\n",
    "Y = pd.read_csv(Y_PATH)"
   ]
  },
  {
   "cell_type": "markdown",
   "metadata": {},
   "source": [
    "### Подготовка данных\n",
    "\n",
    "*Сплит на тренировочную/валидационную выборку, нормализация, приведение к numpy формату*"
   ]
  },
  {
   "cell_type": "code",
   "execution_count": 5,
   "metadata": {},
   "outputs": [],
   "source": [
    "from sklearn.model_selection import train_test_split\n",
    "from sklearn.preprocessing import MinMaxScaler"
   ]
  },
  {
   "cell_type": "code",
   "execution_count": 6,
   "metadata": {},
   "outputs": [
    {
     "name": "stdout",
     "output_type": "stream",
     "text": [
      "Тип данных после преобразования: <class 'numpy.ndarray'>\n"
     ]
    }
   ],
   "source": [
    "scale_features_std = MinMaxScaler()\n",
    "\n",
    "X = scale_features_std.fit_transform(X) \n",
    "\n",
    "print(\"Тип данных после преобразования:\", type(X))"
   ]
  },
  {
   "cell_type": "code",
   "execution_count": 7,
   "metadata": {},
   "outputs": [
    {
     "name": "stdout",
     "output_type": "stream",
     "text": [
      "Тип данных после преобразования: <class 'numpy.ndarray'>\n"
     ]
    }
   ],
   "source": [
    "Y = Y.to_numpy().ravel()\n",
    "\n",
    "print(\"Тип данных после преобразования:\", type(Y))"
   ]
  },
  {
   "cell_type": "code",
   "execution_count": 8,
   "metadata": {},
   "outputs": [
    {
     "name": "stdout",
     "output_type": "stream",
     "text": [
      "Из 303 записей 242 тренровочных и 61 тестовых\n"
     ]
    }
   ],
   "source": [
    "X_train,X_test,Y_train,Y_test = train_test_split(X,Y,test_size=0.2,random_state=42, stratify=Y)\n",
    "\n",
    "print(\"Из\", len(X), \"записей\", len(X_train), \"тренровочных и\", len(X_test), \"тестовых\")"
   ]
  },
  {
   "cell_type": "markdown",
   "metadata": {},
   "source": [
    "### Классификация\n",
    "\n",
    "*Обучение самодельных и slearn моделей и сравнение метрик*"
   ]
  },
  {
   "cell_type": "markdown",
   "metadata": {},
   "source": [
    "#### Инструменты "
   ]
  },
  {
   "cell_type": "code",
   "execution_count": 9,
   "metadata": {},
   "outputs": [],
   "source": [
    "import pandas as pd\n",
    "from sklearn.model_selection import train_test_split\n",
    "from sklearn import metrics\n",
    "from sklearn.metrics import accuracy_score as accuracy\n",
    "from sklearn.metrics import classification_report\n",
    "from sklearn.model_selection import GridSearchCV\n",
    "from sklearn.model_selection import KFold\n",
    "from tqdm import tqdm\n",
    "import matplotlib.pyplot as plt\n",
    "import seaborn as sns"
   ]
  },
  {
   "cell_type": "code",
   "execution_count": 10,
   "metadata": {},
   "outputs": [],
   "source": [
    "# взято из интернета\n",
    "\n",
    "# построение confusion матрицы\n",
    "def conf_matrix(model, x, y):\n",
    "    y_pred = model.predict(x)\n",
    "    cnf_matrix = metrics.confusion_matrix(y, y_pred)\n",
    "    p = sns.heatmap(pd.DataFrame(cnf_matrix), annot=True, cmap=\"YlGnBu\" ,fmt='g')\n",
    "    plt.title('Confusion matrix', y=1.1)\n",
    "    plt.ylabel('Actual label')\n",
    "    plt.xlabel('Predicted label')\n",
    "    \n",
    "# построениe вывода по классификации с оновными метриками\n",
    "def metric_report(model, x, y):\n",
    "    y_pred = model.predict(x)\n",
    "    print(classification_report(y, y_pred))"
   ]
  },
  {
   "cell_type": "code",
   "execution_count": 11,
   "metadata": {},
   "outputs": [],
   "source": [
    "# этот гридсерч позволяет настраивать параметры у моих моделей аналогично \n",
    "# sklearn GridSearchCV\n",
    "class OwnGridSearchCV:\n",
    "    def  __init__(self, model, param_grid, cv=5, random_state=42, metric=accuracy):\n",
    "        self.model = model\n",
    "        self.grid = param_grid\n",
    "        self.cv = cv\n",
    "        self.kf = KFold(n_splits=cv, shuffle=True, random_state=random_state)\n",
    "        self.best_score_ = 0\n",
    "        self.best_params_ = None\n",
    "        self.metric = metric\n",
    "        \n",
    "    def fit(self, X, Y):\n",
    "        counter = np.zeros(len(self.grid)).astype(np.int16)\n",
    "        keys = tuple(self.grid.keys())\n",
    "        now_params = dict(self.grid)\n",
    "        num = 1\n",
    "        for key in keys:\n",
    "            num *= len(self.grid[key])\n",
    "        for _ in tqdm(range(num)):\n",
    "            for i in range(len(keys)):\n",
    "                now_params[keys[i]] = self.grid[keys[i]][counter[i]]\n",
    "            score = 0.0\n",
    "            for train_idx, test_idx in self.kf.split(X):\n",
    "                X_train, X_test = X[train_idx], X[test_idx]\n",
    "                Y_train, Y_test = Y[train_idx], Y[test_idx]\n",
    "                model = self.model(**now_params)\n",
    "                model.fit(X_train, Y_train)\n",
    "                score += model.score(X_test, Y_test, metric=self.metric)\n",
    "            score /= self.cv\n",
    "            if score > self.best_score_:\n",
    "                self.best_score_ = score\n",
    "                self.best_params_ = dict(now_params)\n",
    "            k = -1\n",
    "            while True:\n",
    "                if k < -len(counter):\n",
    "                    return self\n",
    "                counter[k] += 1\n",
    "                if counter[k] < len(self.grid[keys[k]]):\n",
    "                    break\n",
    "                else:\n",
    "                    counter[k] = 0\n",
    "                    k -= 1"
   ]
  },
  {
   "cell_type": "markdown",
   "metadata": {},
   "source": [
    "#### Логистическая регрессия"
   ]
  },
  {
   "cell_type": "code",
   "execution_count": 12,
   "metadata": {},
   "outputs": [],
   "source": [
    "from sklearn.linear_model import LogisticRegression"
   ]
  },
  {
   "cell_type": "markdown",
   "metadata": {},
   "source": [
    "Реализация алгоритма:"
   ]
  },
  {
   "cell_type": "code",
   "execution_count": 13,
   "metadata": {},
   "outputs": [],
   "source": [
    "# эта реализация сигмоиды со stackowerflow лучше справляется с большими х\n",
    "def sigmoid(x):\n",
    "    return np.exp(-np.logaddexp(0, -x))\n",
    "\n",
    "def logit_grad(x, y, w):\n",
    "    koeff = (y * sigmoid(-y*x.dot(w)))\n",
    "    koeff = koeff.reshape((koeff.shape[0], 1))\n",
    "    return -(koeff * x).sum(axis = 0)\n",
    "\n",
    "# логистическая регрессия для бинарной классификации\n",
    "class OwnLogisticRegression:\n",
    "    def __init__(self, speed = 1, l2_reg = False, C=0.5, eps=0.001, maxsteps=2000):\n",
    "        self.w = None\n",
    "        self.speed = speed\n",
    "        self.maxsteps = maxsteps\n",
    "        self.eps = eps\n",
    "        if l2_reg:\n",
    "            self.l2 = lambda w: w / C\n",
    "        else:\n",
    "            self.l2 = lambda w: 0.0\n",
    "    # решатель - градиентный спуск    \n",
    "    def gradien_descent_search(self, X, Y):\n",
    "        w0 = np.zeros(X.shape[1])\n",
    "        w = np.random.random(X.shape[1])\n",
    "        k = 1\n",
    "        while np.linalg.norm(w - w0) > self.eps and k <= self.maxsteps:\n",
    "            w0 = w\n",
    "            temp = self.speed * ((1 / k)**0.5) \n",
    "            w = w - temp*(logit_grad(X, Y, w) + self.l2(w))\n",
    "            k += 1\n",
    "        self.w = w\n",
    "        return self.w\n",
    "    \n",
    "    def fit(self, X_train, Y_train):\n",
    "        Y = np.array(Y_train)\n",
    "        Y[Y_train == 0] = -1\n",
    "        x0 = np.ones((X_train.shape[0], 1))\n",
    "        X = np.hstack((x0, X_train))\n",
    "        self.gradien_descent_search(X, Y)\n",
    "        return self\n",
    "    \n",
    "    def predict(self, X_val, border = 0):\n",
    "        x0 = np.ones((X_val.shape[0], 1))\n",
    "        X = np.hstack((x0, X_val))\n",
    "        Xw = X.dot(self.w)\n",
    "        Y_pred = np.zeros(Xw.shape).astype(np.int8)\n",
    "        Y_pred[Xw >= border] = 1\n",
    "        return Y_pred\n",
    "    \n",
    "    def score(self, X_val, Y_val, metric=accuracy):\n",
    "        return metric(Y_val, self.predict(X_val))"
   ]
  },
  {
   "cell_type": "markdown",
   "metadata": {},
   "source": [
    "*slkearn:*"
   ]
  },
  {
   "cell_type": "code",
   "execution_count": 14,
   "metadata": {},
   "outputs": [
    {
     "name": "stdout",
     "output_type": "stream",
     "text": [
      "Best Score:0.8473639455782314\n",
      "Best Parameters: {'C': 2.4200000000000004}\n"
     ]
    },
    {
     "data": {
      "text/plain": [
       "LogisticRegression(C=2.4200000000000004, class_weight=None, dual=False,\n",
       "                   fit_intercept=True, intercept_scaling=1, l1_ratio=None,\n",
       "                   max_iter=100, multi_class='auto', n_jobs=None, penalty='l2',\n",
       "                   random_state=None, solver='lbfgs', tol=0.0001, verbose=0,\n",
       "                   warm_start=False)"
      ]
     },
     "execution_count": 14,
     "metadata": {},
     "output_type": "execute_result"
    }
   ],
   "source": [
    "param_grid = {'C':np.arange(0.1, 3, 0.04)}\n",
    "log_cv = GridSearchCV(LogisticRegression(),param_grid,cv=5)\n",
    "log_cv.fit(X_train, Y_train)\n",
    "\n",
    "print(\"Best Score:\" + str(log_cv.best_score_))\n",
    "print(\"Best Parameters: \" + str(log_cv.best_params_))\n",
    "skllog = LogisticRegression(**log_cv.best_params_)\n",
    "skllog.fit(X_train, Y_train)"
   ]
  },
  {
   "cell_type": "code",
   "execution_count": 15,
   "metadata": {},
   "outputs": [
    {
     "name": "stdout",
     "output_type": "stream",
     "text": [
      "              precision    recall  f1-score   support\n",
      "\n",
      "           0       0.90      0.64      0.75        28\n",
      "           1       0.76      0.94      0.84        33\n",
      "\n",
      "    accuracy                           0.80        61\n",
      "   macro avg       0.83      0.79      0.79        61\n",
      "weighted avg       0.82      0.80      0.80        61\n",
      "\n"
     ]
    }
   ],
   "source": [
    "metric_report(skllog, X_test, Y_test)"
   ]
  },
  {
   "cell_type": "code",
   "execution_count": 16,
   "metadata": {},
   "outputs": [
    {
     "data": {
      "image/png": "[encoded data removed]",
      "text/plain": [
       "<Figure size 432x288 with 2 Axes>"
      ]
     },
     "metadata": {
      "needs_background": "light"
     },
     "output_type": "display_data"
    }
   ],
   "source": [
    "conf_matrix(skllog, X_test, Y_test)"
   ]
  },
  {
   "cell_type": "markdown",
   "metadata": {},
   "source": [
    "*Самодельная:*"
   ]
  },
  {
   "cell_type": "code",
   "execution_count": 17,
   "metadata": {},
   "outputs": [
    {
     "name": "stderr",
     "output_type": "stream",
     "text": [
      "100%|█████████▉| 218/219 [05:48<00:01,  1.60s/it]\n"
     ]
    },
    {
     "name": "stdout",
     "output_type": "stream",
     "text": [
      "Best Score:0.8343537414965987\n",
      "Best Parameters: {'C': 2.2600000000000007, 'l2_reg': True, 'speed': 0.6}\n"
     ]
    },
    {
     "data": {
      "text/plain": [
       "<__main__.OwnLogisticRegression at 0x7f68802ab950>"
      ]
     },
     "execution_count": 17,
     "metadata": {},
     "output_type": "execute_result"
    }
   ],
   "source": [
    "param_grid = {'C':np.arange(0.1, 3, 0.04),\n",
    "              'l2_reg': [True], \n",
    "              'speed': np.arange(0.3, 1, 0.3)}\n",
    "log_cv= OwnGridSearchCV(OwnLogisticRegression, param_grid, cv=5)\n",
    "log_cv.fit(X_train, Y_train)\n",
    "\n",
    "print(\"Best Score:\" + str(log_cv.best_score_))\n",
    "print(\"Best Parameters: \" + str(log_cv.best_params_))\n",
    "ownlog = OwnLogisticRegression(**log_cv.best_params_)\n",
    "ownlog.fit(X_train, Y_train)"
   ]
  },
  {
   "cell_type": "code",
   "execution_count": 18,
   "metadata": {},
   "outputs": [
    {
     "name": "stdout",
     "output_type": "stream",
     "text": [
      "              precision    recall  f1-score   support\n",
      "\n",
      "           0       0.90      0.64      0.75        28\n",
      "           1       0.76      0.94      0.84        33\n",
      "\n",
      "    accuracy                           0.80        61\n",
      "   macro avg       0.83      0.79      0.79        61\n",
      "weighted avg       0.82      0.80      0.80        61\n",
      "\n"
     ]
    }
   ],
   "source": [
    "metric_report(ownlog, X_test, Y_test)"
   ]
  },
  {
   "cell_type": "code",
   "execution_count": 19,
   "metadata": {},
   "outputs": [
    {
     "data": {
      "image/png": "[encoded data removed]",
      "text/plain": [
       "<Figure size 432x288 with 2 Axes>"
      ]
     },
     "metadata": {
      "needs_background": "light"
     },
     "output_type": "display_data"
    }
   ],
   "source": [
    "conf_matrix(ownlog, X_test, Y_test)"
   ]
  },
  {
   "cell_type": "markdown",
   "metadata": {},
   "source": [
    "#### Решающее дерево"
   ]
  },
  {
   "cell_type": "code",
   "execution_count": 20,
   "metadata": {},
   "outputs": [],
   "source": [
    "from sklearn.tree import DecisionTreeClassifier"
   ]
  },
  {
   "cell_type": "markdown",
   "metadata": {},
   "source": [
    "Реализация алгоритма:"
   ]
  },
  {
   "cell_type": "code",
   "execution_count": 28,
   "metadata": {},
   "outputs": [],
   "source": [
    "class OwnDecisionTree:\n",
    "    def __init__(self, min_size=2):\n",
    "        self.min_size = min_size\n",
    "\n",
    "    def fit(self,X,y):\n",
    "        dataset = np.column_stack([X,y])\n",
    "        self.tree = self.build_tree(dataset)\n",
    "\n",
    "    def predict(self,X):\n",
    "        if len(X.shape) == 1:\n",
    "            return  self.predict_one(self.tree,X)\n",
    "        else:\n",
    "            y_pred = []\n",
    "            for x in X:\n",
    "                y_pred.append(self.predict_one(self.tree,x))\n",
    "            return y_pred\n",
    "\n",
    "    def gini_index(self,groups,classes):\n",
    "        n_instanse = float(sum([ len(group) for group in groups ]))\n",
    "        gini = 0.0\n",
    "        for group in groups:\n",
    "            size = float(len(group))\n",
    "            if size == 0:\n",
    "                continue\n",
    "            score = 0.0\n",
    "            for class_val in classes:\n",
    "                p = [row[-1] for row in group].count(class_val)/size\n",
    "                score +=p*p\n",
    "            gini +=(1.0 - score)*(size/n_instanse)\n",
    "        return  gini\n",
    "\n",
    "    def test_split(self,index, value, dataset):\n",
    "        left, rigth = [],[]\n",
    "        for row in dataset:\n",
    "            if row[index]<value:\n",
    "                left.append(row)\n",
    "            else:\n",
    "                rigth.append(row)\n",
    "        return left, rigth\n",
    "\n",
    "    def get_split(self,dataset):\n",
    "        class_values = list(set(row[-1] for row in dataset))\n",
    "        b_index, b_value, b_score, b_groups = 999, 999, 999, None\n",
    "\n",
    "        for index in range(len(dataset[0]) - 1):\n",
    "            for row in dataset:\n",
    "                groups = self.test_split(index,row[index],dataset)\n",
    "                gini = self.gini_index(groups,class_values)\n",
    "                if gini < b_score:\n",
    "                    b_index, b_value, b_score, b_groups = index, row[index], gini, groups\n",
    "        return  {'index':b_index,'value':b_value,'groups':b_groups}\n",
    "\n",
    "    def to_terminal(self,group):\n",
    "        outcomes = [row[-1] for row in group]\n",
    "        return  max(set(outcomes), key=outcomes.count)\n",
    "\n",
    "    def split(self,node,depth):\n",
    "        min_size = self.min_size\n",
    "\n",
    "        left, right = node['groups']\n",
    "        del(node['groups'])\n",
    "        if not left or not  right:\n",
    "            node['left'] = node['right'] = self.to_terminal(left+right)\n",
    "            return\n",
    "\n",
    "        if len(left) <= min_size:\n",
    "            node['left'] =self.to_terminal(left)\n",
    "        else:\n",
    "            node['left'] = self.get_split(left)\n",
    "            self.split(node['left'], depth + 1)\n",
    "\n",
    "        if len(right) <= min_size:\n",
    "            node['right'] = self.to_terminal(right)\n",
    "        else:\n",
    "            node['right'] = self.get_split(right)\n",
    "            self.split(node['right'], depth + 1)\n",
    "\n",
    "    def build_tree(self,train):\n",
    "        root = self.get_split(train)\n",
    "        self.split(root,1)\n",
    "        return  root\n",
    "\n",
    "\n",
    "    def predict_one(self,node,row):\n",
    "        if row[node['index']] < node['value']:\n",
    "            if isinstance(node['left'], dict):\n",
    "                return self.predict_one(node['left'], row)\n",
    "            else:\n",
    "                return node['left']\n",
    "        else:\n",
    "            if isinstance(node['right'], dict):\n",
    "                return self.predict_one(node['right'], row)\n",
    "            else:\n",
    "                return node['right']\n",
    "            \n",
    "    def score(self, X_val, Y_val, metric=accuracy):\n",
    "        return metric(Y_val, self.predict(X_val))"
   ]
  },
  {
   "cell_type": "markdown",
   "metadata": {},
   "source": [
    "*sklearn:*"
   ]
  },
  {
   "cell_type": "code",
   "execution_count": 22,
   "metadata": {},
   "outputs": [
    {
     "name": "stdout",
     "output_type": "stream",
     "text": [
      "Best Score:0.7897108843537415\n",
      "Best Parameters: {'ccp_alpha': 0.023}\n"
     ]
    },
    {
     "data": {
      "text/plain": [
       "DecisionTreeClassifier(ccp_alpha=0.023, class_weight=None, criterion='gini',\n",
       "                       max_depth=None, max_features=None, max_leaf_nodes=None,\n",
       "                       min_impurity_decrease=0.0, min_impurity_split=None,\n",
       "                       min_samples_leaf=1, min_samples_split=2,\n",
       "                       min_weight_fraction_leaf=0.0, presort='deprecated',\n",
       "                       random_state=None, splitter='best')"
      ]
     },
     "execution_count": 22,
     "metadata": {},
     "output_type": "execute_result"
    }
   ],
   "source": [
    "# настройка параметра стрижки\n",
    "param_grid = {'ccp_alpha':np.arange(0.001, 0.1, 0.002)}\n",
    "tree_cv= GridSearchCV(DecisionTreeClassifier(),param_grid,cv=5)\n",
    "tree_cv.fit(X_train, Y_train)\n",
    "\n",
    "print(\"Best Score:\" + str(tree_cv.best_score_))\n",
    "print(\"Best Parameters: \" + str(tree_cv.best_params_))\n",
    "skltree = DecisionTreeClassifier(**tree_cv.best_params_)\n",
    "skltree.fit(X_train, Y_train)"
   ]
  },
  {
   "cell_type": "code",
   "execution_count": 23,
   "metadata": {},
   "outputs": [
    {
     "name": "stdout",
     "output_type": "stream",
     "text": [
      "              precision    recall  f1-score   support\n",
      "\n",
      "           0       0.76      0.46      0.58        28\n",
      "           1       0.66      0.88      0.75        33\n",
      "\n",
      "    accuracy                           0.69        61\n",
      "   macro avg       0.71      0.67      0.67        61\n",
      "weighted avg       0.71      0.69      0.67        61\n",
      "\n"
     ]
    }
   ],
   "source": [
    "# здесь нечего настраивать\n",
    "metric_report(skltree, X_test, Y_test)"
   ]
  },
  {
   "cell_type": "code",
   "execution_count": 24,
   "metadata": {},
   "outputs": [
    {
     "data": {
      "image/png": "[encoded data removed]",
      "text/plain": [
       "<Figure size 432x288 with 2 Axes>"
      ]
     },
     "metadata": {
      "needs_background": "light"
     },
     "output_type": "display_data"
    }
   ],
   "source": [
    "conf_matrix(skltree, X_test, Y_test)"
   ]
  },
  {
   "cell_type": "markdown",
   "metadata": {},
   "source": [
    "*Самодельная:*"
   ]
  },
  {
   "cell_type": "code",
   "execution_count": 29,
   "metadata": {},
   "outputs": [],
   "source": [
    "owntree = OwnDecisionTree()\n",
    "\n",
    "owntree.fit(X_train, Y_train)"
   ]
  },
  {
   "cell_type": "code",
   "execution_count": 30,
   "metadata": {},
   "outputs": [
    {
     "name": "stdout",
     "output_type": "stream",
     "text": [
      "              precision    recall  f1-score   support\n",
      "\n",
      "           0       0.73      0.68      0.70        28\n",
      "           1       0.74      0.79      0.76        33\n",
      "\n",
      "    accuracy                           0.74        61\n",
      "   macro avg       0.74      0.73      0.73        61\n",
      "weighted avg       0.74      0.74      0.74        61\n",
      "\n"
     ]
    }
   ],
   "source": [
    "metric_report(owntree, X_test, Y_test)"
   ]
  },
  {
   "cell_type": "code",
   "execution_count": 31,
   "metadata": {},
   "outputs": [
    {
     "data": {
      "image/png": "[encoded data removed]",
      "text/plain": [
       "<Figure size 432x288 with 2 Axes>"
      ]
     },
     "metadata": {
      "needs_background": "light"
     },
     "output_type": "display_data"
    }
   ],
   "source": [
    "conf_matrix(owntree, X_test, Y_test)"
   ]
  },
  {
   "cell_type": "markdown",
   "metadata": {},
   "source": [
    "#### K ближайших соседей"
   ]
  },
  {
   "cell_type": "code",
   "execution_count": 32,
   "metadata": {},
   "outputs": [],
   "source": [
    "from sklearn.neighbors import KNeighborsClassifier"
   ]
  },
  {
   "cell_type": "markdown",
   "metadata": {},
   "source": [
    "Реализация алгоритма:"
   ]
  },
  {
   "cell_type": "code",
   "execution_count": 33,
   "metadata": {},
   "outputs": [],
   "source": [
    "def minkovski(x1, x2, p = 3):\n",
    "    return (np.abs(x1 - x2) ** p).T.sum(axis = 0)**(1.0 / p)\n",
    "\n",
    "def euclid(x1, x2):\n",
    "    return minkovski(x1, x2, 2)\n",
    "\n",
    "# обычный KNN\n",
    "class OwnKNN:\n",
    "    def __init__(self, k = 5, metric = euclid):\n",
    "        self.k = k\n",
    "        self.p = metric\n",
    "        self.X = None\n",
    "        self.Y = None\n",
    "    \n",
    "    def fit(self, X_train, Y_train):\n",
    "        self.X = X_train\n",
    "        self.Y = Y_train\n",
    "        self.k = min(self.k, len(self.Y) - 1)\n",
    "        return self\n",
    "\n",
    "    def predict(self, X_val):\n",
    "        Y_pred = np.zeros(len(X_val)).astype(np.int8)\n",
    "        for i in np.arange(len(X_val)):\n",
    "            Y_pred[i] = self.predict_one(X_val[i])\n",
    "        return Y_pred\n",
    "    \n",
    "    # сортим и берем первые k\n",
    "    def predict_one(self, x):\n",
    "        r_x = self.p(self.X, x)\n",
    "        order = np.argsort(r_x)\n",
    "        h = r_x[order[self.k]]\n",
    "        order = order[:self.k]\n",
    "        Y_k = self.Y[order]\n",
    "        pos_w = Y_k.sum()\n",
    "        neg_w = np.logical_not(Y_k).sum()\n",
    "        return int(pos_w > neg_w) \n",
    "\n",
    "\n",
    "    def score(self, X_val, Y_val, metric=accuracy):\n",
    "        return metric(Y_val, self.predict(X_val))"
   ]
  },
  {
   "cell_type": "markdown",
   "metadata": {},
   "source": [
    "*sklearn:*"
   ]
  },
  {
   "cell_type": "code",
   "execution_count": 34,
   "metadata": {},
   "outputs": [
    {
     "name": "stdout",
     "output_type": "stream",
     "text": [
      "Best Score:0.8185374149659864\n",
      "Best Parameters: {'n_neighbors': 5}\n"
     ]
    },
    {
     "data": {
      "text/plain": [
       "KNeighborsClassifier(algorithm='auto', leaf_size=30, metric='minkowski',\n",
       "                     metric_params=None, n_jobs=None, n_neighbors=5, p=2,\n",
       "                     weights='uniform')"
      ]
     },
     "execution_count": 34,
     "metadata": {},
     "output_type": "execute_result"
    }
   ],
   "source": [
    "param_grid = {'n_neighbors':np.arange(1,65)}\n",
    "knn_cv= GridSearchCV(KNeighborsClassifier(),param_grid,cv=5)\n",
    "knn_cv.fit(X_train, Y_train)\n",
    "\n",
    "print(\"Best Score:\" + str(knn_cv.best_score_))\n",
    "print(\"Best Parameters: \" + str(knn_cv.best_params_))\n",
    "sklknn = KNeighborsClassifier(**knn_cv.best_params_)\n",
    "sklknn.fit(X_train, Y_train)"
   ]
  },
  {
   "cell_type": "code",
   "execution_count": 35,
   "metadata": {},
   "outputs": [
    {
     "name": "stdout",
     "output_type": "stream",
     "text": [
      "              precision    recall  f1-score   support\n",
      "\n",
      "           0       0.74      0.82      0.78        28\n",
      "           1       0.83      0.76      0.79        33\n",
      "\n",
      "    accuracy                           0.79        61\n",
      "   macro avg       0.79      0.79      0.79        61\n",
      "weighted avg       0.79      0.79      0.79        61\n",
      "\n"
     ]
    }
   ],
   "source": [
    "metric_report(sklknn, X_test, Y_test)"
   ]
  },
  {
   "cell_type": "code",
   "execution_count": 36,
   "metadata": {},
   "outputs": [
    {
     "data": {
      "image/png": "[encoded data removed]",
      "text/plain": [
       "<Figure size 432x288 with 2 Axes>"
      ]
     },
     "metadata": {
      "needs_background": "light"
     },
     "output_type": "display_data"
    }
   ],
   "source": [
    "conf_matrix(sklknn, X_test, Y_test)"
   ]
  },
  {
   "cell_type": "markdown",
   "metadata": {},
   "source": [
    "*Самодельная:*"
   ]
  },
  {
   "cell_type": "code",
   "execution_count": 38,
   "metadata": {},
   "outputs": [
    {
     "name": "stderr",
     "output_type": "stream",
     "text": [
      " 98%|█████████▊| 63/64 [00:03<00:00, 16.13it/s]"
     ]
    },
    {
     "name": "stdout",
     "output_type": "stream",
     "text": [
      "Best Score:0.8138605442176872\n",
      "Best Parameters: {'k': 1}\n"
     ]
    },
    {
     "name": "stderr",
     "output_type": "stream",
     "text": [
      "\n"
     ]
    },
    {
     "data": {
      "text/plain": [
       "<__main__.OwnKNN at 0x7f687c461350>"
      ]
     },
     "execution_count": 38,
     "metadata": {},
     "output_type": "execute_result"
    }
   ],
   "source": [
    "param_grid = {'k':np.arange(1,65)}\n",
    "knn_cv= OwnGridSearchCV(OwnKNN, param_grid, cv=5)\n",
    "knn_cv.fit(X_train, Y_train)\n",
    "\n",
    "print(\"Best Score:\" + str(knn_cv.best_score_))\n",
    "print(\"Best Parameters: \" + str(knn_cv.best_params_))\n",
    "ownknn = OwnKNN(**knn_cv.best_params_)\n",
    "ownknn.fit(X_train, Y_train)"
   ]
  },
  {
   "cell_type": "code",
   "execution_count": 39,
   "metadata": {},
   "outputs": [
    {
     "name": "stdout",
     "output_type": "stream",
     "text": [
      "              precision    recall  f1-score   support\n",
      "\n",
      "           0       0.78      0.75      0.76        28\n",
      "           1       0.79      0.82      0.81        33\n",
      "\n",
      "    accuracy                           0.79        61\n",
      "   macro avg       0.79      0.78      0.78        61\n",
      "weighted avg       0.79      0.79      0.79        61\n",
      "\n"
     ]
    }
   ],
   "source": [
    "metric_report(ownknn, X_test, Y_test)"
   ]
  },
  {
   "cell_type": "code",
   "execution_count": 40,
   "metadata": {},
   "outputs": [
    {
     "data": {
      "image/png": "[encoded data removed]",
      "text/plain": [
       "<Figure size 432x288 with 2 Axes>"
      ]
     },
     "metadata": {
      "needs_background": "light"
     },
     "output_type": "display_data"
    }
   ],
   "source": [
    "conf_matrix(ownknn, X_test, Y_test)"
   ]
  },
  {
   "cell_type": "markdown",
   "metadata": {},
   "source": [
    "#### Метод опорных векторов"
   ]
  },
  {
   "cell_type": "code",
   "execution_count": 41,
   "metadata": {},
   "outputs": [],
   "source": [
    "from sklearn.svm import LinearSVC"
   ]
  },
  {
   "cell_type": "markdown",
   "metadata": {},
   "source": [
    "Реализация алгоритма:"
   ]
  },
  {
   "cell_type": "code",
   "execution_count": 42,
   "metadata": {},
   "outputs": [],
   "source": [
    "# метод опорнных векторов для бинарной классификации\n",
    "class OwnSVM:\n",
    "    def __init__(self, speed=0.001, l2_reg = False, C=0.5, maxsteps=2500):\n",
    "        self.maxsteps = maxsteps\n",
    "        self.speed = speed\n",
    "        if l2_reg:\n",
    "            self.l2 = lambda w: w / C\n",
    "        else:\n",
    "            self.l2 = lambda w: 0.0   \n",
    "        self.C = C\n",
    "\n",
    "    def fit(self,X,y):\n",
    "        self.X = np.column_stack((np.ones(len(X)), X))\n",
    "        self.y = np.array(y)\n",
    "        self.y[y == 0] = -1\n",
    "\n",
    "        self.w = np.ones(len(self.X[0]))\n",
    "        self.gradient_descent_search()\n",
    "    \n",
    "    # обучим градиентным спуском\n",
    "    def gradient_descent_search(self):\n",
    "        for i in range(self.maxsteps):\n",
    "            L, dw = self.get_cost_grads(self.X, self.w, self.y)\n",
    "            self.w = self.w - self.speed * dw\n",
    "        return self.w\n",
    "            \n",
    "    def distances(self, w, with_lagrange=True):\n",
    "        distances = self.y * (np.dot(self.X, w)) - 1\n",
    "        if with_lagrange:\n",
    "            distances[distances > 0] = 0\n",
    "        return distances\n",
    "    \n",
    "    # градиент функции потерь L = max(0, 1 - M)\n",
    "    def get_cost_grads(self, X, w, y):\n",
    "        distances = self.distances(w)\n",
    "        # Функция потерь\n",
    "        L = 1 / 2 * np.dot(w, w) - (1 / self.C) * np.sum(distances)\n",
    "        ds = -np.sign(distances)\n",
    "        p = np.dot(X.T,ds*y)\n",
    "        # градиент с регуляризацией\n",
    "        dw = w - self.l2(p)\n",
    "        return L, dw / len(X)\n",
    "\n",
    "    def predict(self, X):\n",
    "        X = np.column_stack((np.ones(len(X)), X))\n",
    "        y = np.sign(X @ self.w)\n",
    "        y[y==-1] = 0\n",
    "        return y\n",
    "    \n",
    "    def score(self, X_val, Y_val, metric=accuracy):\n",
    "        return metric(Y_val, self.predict(X_val))"
   ]
  },
  {
   "cell_type": "markdown",
   "metadata": {},
   "source": [
    "*slkearn:*"
   ]
  },
  {
   "cell_type": "code",
   "execution_count": 43,
   "metadata": {},
   "outputs": [
    {
     "name": "stdout",
     "output_type": "stream",
     "text": [
      "Best Score:0.8473639455782314\n",
      "Best Parameters: {'C': 0.3400000000000001}\n"
     ]
    },
    {
     "data": {
      "text/plain": [
       "LinearSVC(C=0.3400000000000001, class_weight=None, dual=True,\n",
       "          fit_intercept=True, intercept_scaling=1, loss='squared_hinge',\n",
       "          max_iter=1000, multi_class='ovr', penalty='l2', random_state=None,\n",
       "          tol=0.0001, verbose=0)"
      ]
     },
     "execution_count": 43,
     "metadata": {},
     "output_type": "execute_result"
    }
   ],
   "source": [
    "param_grid = {'C':np.arange(0.1, 3, 0.04)}\n",
    "svm_cv = GridSearchCV(LinearSVC(),param_grid,cv=5)\n",
    "svm_cv.fit(X_train, Y_train)\n",
    "\n",
    "print(\"Best Score:\" + str(svm_cv.best_score_))\n",
    "print(\"Best Parameters: \" + str(svm_cv.best_params_))\n",
    "sklsvm = LinearSVC(**svm_cv.best_params_)\n",
    "sklsvm.fit(X_train, Y_train)"
   ]
  },
  {
   "cell_type": "code",
   "execution_count": 44,
   "metadata": {},
   "outputs": [
    {
     "name": "stdout",
     "output_type": "stream",
     "text": [
      "              precision    recall  f1-score   support\n",
      "\n",
      "           0       0.90      0.64      0.75        28\n",
      "           1       0.76      0.94      0.84        33\n",
      "\n",
      "    accuracy                           0.80        61\n",
      "   macro avg       0.83      0.79      0.79        61\n",
      "weighted avg       0.82      0.80      0.80        61\n",
      "\n"
     ]
    }
   ],
   "source": [
    "metric_report(sklsvm, X_test, Y_test)"
   ]
  },
  {
   "cell_type": "code",
   "execution_count": 45,
   "metadata": {},
   "outputs": [
    {
     "data": {
      "image/png": "[encoded data removed]",
      "text/plain": [
       "<Figure size 432x288 with 2 Axes>"
      ]
     },
     "metadata": {
      "needs_background": "light"
     },
     "output_type": "display_data"
    }
   ],
   "source": [
    "conf_matrix(sklsvm, X_test, Y_test)"
   ]
  },
  {
   "cell_type": "markdown",
   "metadata": {},
   "source": [
    "*Самодельная:*"
   ]
  },
  {
   "cell_type": "code",
   "execution_count": 46,
   "metadata": {},
   "outputs": [
    {
     "name": "stderr",
     "output_type": "stream",
     "text": [
      "100%|█████████▉| 218/219 [09:34<00:02,  2.63s/it]\n"
     ]
    },
    {
     "name": "stdout",
     "output_type": "stream",
     "text": [
      "Best Score:0.8509353741496598\n",
      "Best Parameters: {'C': 0.38, 'l2_reg': True, 'speed': 0.6}\n"
     ]
    }
   ],
   "source": [
    "param_grid = {'C':np.arange(0.1, 3, 0.04),\n",
    "              'l2_reg': [True], \n",
    "              'speed': np.arange(0.3, 1, 0.3)}\n",
    "svm_cv= OwnGridSearchCV(OwnSVM, param_grid, cv=5)\n",
    "svm_cv.fit(X_train, Y_train)\n",
    "\n",
    "print(\"Best Score:\" + str(svm_cv.best_score_))\n",
    "print(\"Best Parameters: \" + str(svm_cv.best_params_))\n",
    "ownsvm = OwnSVM(**svm_cv.best_params_)\n",
    "ownsvm.fit(X_train, Y_train)"
   ]
  },
  {
   "cell_type": "code",
   "execution_count": 47,
   "metadata": {},
   "outputs": [
    {
     "name": "stdout",
     "output_type": "stream",
     "text": [
      "              precision    recall  f1-score   support\n",
      "\n",
      "           0       0.78      0.64      0.71        28\n",
      "           1       0.74      0.85      0.79        33\n",
      "\n",
      "    accuracy                           0.75        61\n",
      "   macro avg       0.76      0.75      0.75        61\n",
      "weighted avg       0.76      0.75      0.75        61\n",
      "\n"
     ]
    }
   ],
   "source": [
    "metric_report(ownsvm, X_test, Y_test)"
   ]
  },
  {
   "cell_type": "code",
   "execution_count": 48,
   "metadata": {},
   "outputs": [
    {
     "data": {
      "image/png": "[encoded data removed]",
      "text/plain": [
       "<Figure size 432x288 with 2 Axes>"
      ]
     },
     "metadata": {
      "needs_background": "light"
     },
     "output_type": "display_data"
    }
   ],
   "source": [
    "conf_matrix(ownsvm, X_test, Y_test)"
   ]
  },
  {
   "cell_type": "markdown",
   "metadata": {},
   "source": [
    "#### Результат"
   ]
  },
  {
   "cell_type": "markdown",
   "metadata": {},
   "source": [
    "*Наилучший результат:* Логистическая регрессия как в моей, так и сторонней реализации, а также *sklearn* метод опорных векторов."
   ]
  },
  {
   "cell_type": "code",
   "execution_count": 49,
   "metadata": {},
   "outputs": [
    {
     "name": "stdout",
     "output_type": "stream",
     "text": [
      "Точность модели: 0.8032786885245902\n"
     ]
    }
   ],
   "source": [
    "print(\"Точность модели:\", ownlog.score(X_test, Y_test))"
   ]
  },
  {
   "cell_type": "markdown",
   "metadata": {},
   "source": [
    "*Наихудший результат:* sklearn реализация решающего дерева. Мое дерево показало себя не сильно лучше в силу склонности деревьев к переобучению."
   ]
  },
  {
   "cell_type": "code",
   "execution_count": 50,
   "metadata": {},
   "outputs": [
    {
     "name": "stdout",
     "output_type": "stream",
     "text": [
      "Точность модели: 0.6885245901639344\n"
     ]
    }
   ],
   "source": [
    "print(\"Точность модели:\", skltree.score(X_test, Y_test))"
   ]
  },
  {
   "cell_type": "markdown",
   "metadata": {},
   "source": [
    "Исходя из значений метрик я пришла к выводу, что модели, написанные мной в целом не уступают моделям *sklearn* по качеству классификации, не считая реализации метода опорных векторов, которая получилась неудачной. Оценить скорость моделей я не смогла, поскольку размер данных маленький и все модели работали сравнительно быстро."
   ]
  }
 ],
 "metadata": {
  "kernelspec": {
   "display_name": "Python 3",
   "language": "python",
   "name": "python3"
  },
  "language_info": {
   "codemirror_mode": {
    "name": "ipython",
    "version": 3
   },
   "file_extension": ".py",
   "mimetype": "text/x-python",
   "name": "python",
   "nbconvert_exporter": "python",
   "pygments_lexer": "ipython3",
   "version": "3.7.6"
  }
 },
 "nbformat": 4,
 "nbformat_minor": 4
}
